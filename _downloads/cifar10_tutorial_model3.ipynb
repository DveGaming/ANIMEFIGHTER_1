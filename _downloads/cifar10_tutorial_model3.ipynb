{
  "cells": [
    {
      "cell_type": "code",
      "execution_count": 50,
      "metadata": {
        "id": "TSPbb5t4-VHM"
      },
      "outputs": [],
      "source": [
        "%matplotlib inline"
      ]
    },
    {
      "cell_type": "markdown",
      "metadata": {
        "id": "rOMgAVma-VHN"
      },
      "source": [
        "\n",
        "Training a Classifier\n",
        "=====================\n",
        "\n",
        "This is it. You have seen how to define neural networks, compute loss and make\n",
        "updates to the weights of the network.\n",
        "\n",
        "Now you might be thinking,\n",
        "\n",
        "What about data?\n",
        "----------------\n",
        "\n",
        "Generally, when you have to deal with image, text, audio or video data,\n",
        "you can use standard python packages that load data into a numpy array.\n",
        "Then you can convert this array into a ``torch.*Tensor``.\n",
        "\n",
        "-  For images, packages such as Pillow, OpenCV are useful\n",
        "-  For audio, packages such as scipy and librosa\n",
        "-  For text, either raw Python or Cython based loading, or NLTK and\n",
        "   SpaCy are useful\n",
        "\n",
        "Specifically for vision, we have created a package called\n",
        "``torchvision``, that has data loaders for common datasets such as\n",
        "Imagenet, CIFAR10, MNIST, etc. and data transformers for images, viz.,\n",
        "``torchvision.datasets`` and ``torch.utils.data.DataLoader``.\n",
        "\n",
        "This provides a huge convenience and avoids writing boilerplate code.\n",
        "\n",
        "For this tutorial, we will use the CIFAR10 dataset.\n",
        "It has the classes: ‘airplane’, ‘automobile’, ‘bird’, ‘cat’, ‘deer’,\n",
        "‘dog’, ‘frog’, ‘horse’, ‘ship’, ‘truck’. The images in CIFAR-10 are of\n",
        "size 3x32x32, i.e. 3-channel color images of 32x32 pixels in size.\n",
        "\n",
        ".. figure:: /_static/img/cifar10.png\n",
        "   :alt: cifar10\n",
        "\n",
        "   cifar10\n",
        "\n",
        "\n",
        "Training an image classifier\n",
        "----------------------------\n",
        "\n",
        "We will do the following steps in order:\n",
        "\n",
        "1. Load and normalizing the CIFAR10 training and test datasets using\n",
        "   ``torchvision``\n",
        "2. Define a Convolution Neural Network\n",
        "3. Define a loss function\n",
        "4. Train the network on the training data\n",
        "5. Test the network on the test data\n",
        "\n",
        "1. Loading and normalizing CIFAR10\n",
        "^^^^^^^^^^^^^^^^^^^^^^^^^^^^^^^^^^\n",
        "\n",
        "Using ``torchvision``, it’s extremely easy to load CIFAR10.\n",
        "\n"
      ]
    },
    {
      "cell_type": "code",
      "execution_count": 51,
      "metadata": {
        "id": "qcioGeMN-VHO"
      },
      "outputs": [],
      "source": [
        "import torch\n",
        "import torchvision\n",
        "import torchvision.transforms as transforms"
      ]
    },
    {
      "cell_type": "markdown",
      "metadata": {
        "id": "Dq8_-MvW-VHO"
      },
      "source": [
        "The output of torchvision datasets are PILImage images of range [0, 1].\n",
        "We transform them to Tensors of normalized range [-1, 1].\n",
        "\n"
      ]
    },
    {
      "cell_type": "code",
      "execution_count": 52,
      "metadata": {
        "id": "0J_YqGbk-VHO"
      },
      "outputs": [],
      "source": [
        "transform = transforms.Compose(\n",
        "    [transforms.ToTensor(),\n",
        "     transforms.Normalize((0.5, 0.5, 0.5), (0.5, 0.5, 0.5))])\n",
        "\n",
        "trainset = torchvision.datasets.CIFAR10(root='./data', train=True,\n",
        "                                        download=True, transform=transform)\n",
        "trainloader = torch.utils.data.DataLoader(trainset, batch_size=4,\n",
        "                                          shuffle=True, num_workers=2)\n",
        "\n",
        "testset = torchvision.datasets.CIFAR10(root='./data', train=False,\n",
        "                                       download=True, transform=transform)\n",
        "testloader = torch.utils.data.DataLoader(testset, batch_size=4,\n",
        "                                         shuffle=False, num_workers=2)\n",
        "\n",
        "classes = ('plane', 'car', 'bird', 'cat',\n",
        "           'deer', 'dog', 'frog', 'horse', 'ship', 'truck')"
      ]
    },
    {
      "cell_type": "markdown",
      "metadata": {
        "id": "abV2D1MO-VHO"
      },
      "source": [
        "Let us show some of the training images, for fun.\n",
        "\n"
      ]
    },
    {
      "cell_type": "code",
      "execution_count": 53,
      "metadata": {
        "colab": {
          "base_uri": "https://localhost:8080/",
          "height": 210
        },
        "id": "VHoO2-UK-VHO",
        "outputId": "4de22a3b-d7f7-4841-96c2-3a11143bc82e"
      },
      "outputs": [
        {
          "output_type": "stream",
          "name": "stdout",
          "text": [
            "truck   dog truck plane\n"
          ]
        },
        {
          "output_type": "display_data",
          "data": {
            "text/plain": [
              "<Figure size 640x480 with 1 Axes>"
            ],
            "image/png": "[encoded data removed]"
          },
          "metadata": {}
        }
      ],
      "source": [
        "import matplotlib.pyplot as plt\n",
        "import numpy as np\n",
        "\n",
        "# functions to show an image\n",
        "\n",
        "\n",
        "def imshow(img):\n",
        "    img = img / 2 + 0.5     # unnormalize\n",
        "    npimg = img.numpy()\n",
        "    plt.imshow(np.transpose(npimg, (1, 2, 0)))\n",
        "\n",
        "\n",
        "# get some random training images\n",
        "dataiter = iter(trainloader)\n",
        "images, labels = next(dataiter)\n",
        "\n",
        "# show images\n",
        "imshow(torchvision.utils.make_grid(images))\n",
        "# print labels\n",
        "print(' '.join('%5s' % classes[labels[j]] for j in range(4)))"
      ]
    },
    {
      "cell_type": "markdown",
      "metadata": {
        "id": "XbS63F2S-VHO"
      },
      "source": [
        "2. Define a Convolution Neural Network\n",
        "^^^^^^^^^^^^^^^^^^^^^^^^^^^^^^^^^^^^^^\n",
        "Copy the neural network from the Neural Networks section before and modify it to\n",
        "take 3-channel images (instead of 1-channel images as it was defined).\n",
        "\n"
      ]
    },
    {
      "cell_type": "code",
      "execution_count": 54,
      "metadata": {
        "colab": {
          "base_uri": "https://localhost:8080/"
        },
        "id": "omCMdP4S-VHO",
        "outputId": "e68125c8-83d6-4e2b-8d43-d24afd0cebfe"
      },
      "outputs": [
        {
          "output_type": "stream",
          "name": "stdout",
          "text": [
            "=== TESTING MODEL3 ===\n",
            "Input shape: torch.Size([1, 3, 32, 32])\n",
            "Output shape: torch.Size([1, 10])\n",
            "Total parameters: 19,247,818\n",
            "Parameters in range 10M-20M: True\n"
          ]
        }
      ],
      "source": [
        "import torch\n",
        "import torch.nn as nn\n",
        "import torch.nn.functional as F\n",
        "\n",
        "class Model3(nn.Module):\n",
        "    def __init__(self):\n",
        "        super(Model3, self).__init__()\n",
        "\n",
        "        # Khối 1: Conv3x3 và Conv5x5 đầu vào (32x32)\n",
        "        self.conv3x3_1 = nn.Conv2d(3, 32, kernel_size=3, stride=1, padding=1)      # Conv3x3 #1\n",
        "        self.conv5x5_1 = nn.Conv2d(32, 32, kernel_size=5, stride=1, padding=2)    # Conv5x5 #1\n",
        "        self.conv3x3_2 = nn.Conv2d(32, 64, kernel_size=3, stride=1, padding=1)    # Conv3x3 #2\n",
        "        self.conv5x5_2 = nn.Conv2d(64, 64, kernel_size=5, stride=1, padding=2)    # Conv5x5 #2\n",
        "\n",
        "        # Khối 2: Residual với Conv3x3 và Conv5x5 (32x32)\n",
        "        self.conv3x3_3 = nn.Conv2d(64, 64, kernel_size=3, stride=1, padding=1)    # Conv3x3 #3\n",
        "        self.conv5x5_3 = nn.Conv2d(64, 64, kernel_size=5, stride=1, padding=2)    # Conv5x5 #3\n",
        "        self.conv3x3_4 = nn.Conv2d(64, 64, kernel_size=3, stride=1, padding=1)    # Conv3x3 #4\n",
        "        self.conv5x5_4 = nn.Conv2d(64, 64, kernel_size=5, stride=1, padding=2)    # Conv5x5 #4\n",
        "\n",
        "        # MaxPool 1: 32x32 -> 16x16\n",
        "        self.pool1 = nn.MaxPool2d(2, 2)\n",
        "\n",
        "        # Khối 3: Tăng channels (16x16)\n",
        "        self.conv3x3_5 = nn.Conv2d(64, 96, kernel_size=3, stride=1, padding=1)    # Conv3x3 #5\n",
        "        self.conv5x5_5 = nn.Conv2d(96, 96, kernel_size=5, stride=1, padding=2)    # Conv5x5 #5\n",
        "        self.conv3x3_6 = nn.Conv2d(96, 96, kernel_size=3, stride=1, padding=1)    # Conv3x3 #6\n",
        "        self.conv5x5_6 = nn.Conv2d(96, 96, kernel_size=5, stride=1, padding=2)    # Conv5x5 #6\n",
        "\n",
        "        # Nhánh phụ cho torch.cat thứ 1 (từ sau pool1)\n",
        "        self.branch1_3x3 = nn.Conv2d(64, 48, kernel_size=3, stride=1, padding=1)  # Conv3x3 #7\n",
        "        self.branch1_5x5 = nn.Conv2d(48, 48, kernel_size=5, stride=1, padding=2)  # Conv5x5 #7\n",
        "\n",
        "        # Khối 4: Sau concatenation 1 (16x16, 144 channels)\n",
        "        self.conv3x3_7 = nn.Conv2d(144, 144, kernel_size=3, stride=1, padding=1)  # Conv3x3 #8\n",
        "        self.conv5x5_7 = nn.Conv2d(144, 144, kernel_size=5, stride=1, padding=2)  # Conv5x5 #8\n",
        "\n",
        "        # Residual block thứ 2\n",
        "        self.conv3x3_8 = nn.Conv2d(144, 144, kernel_size=3, stride=1, padding=1)  # Conv3x3 #9\n",
        "        self.conv5x5_8 = nn.Conv2d(144, 144, kernel_size=5, stride=1, padding=2)  # Conv5x5 #9\n",
        "\n",
        "        # MaxPool 2: 16x16 -> 8x8\n",
        "        self.pool2 = nn.MaxPool2d(2, 2)\n",
        "\n",
        "        # Khối 5: Tăng channels tiếp (8x8)\n",
        "        self.conv3x3_9 = nn.Conv2d(144, 256, kernel_size=3, stride=1, padding=1)  # Conv3x3 #10\n",
        "        self.conv5x5_9 = nn.Conv2d(256, 256, kernel_size=5, stride=1, padding=2)  # Conv5x5 #10\n",
        "\n",
        "        # Nhánh phụ cho torch.cat thứ 2 (từ sau pool2)\n",
        "        self.branch2_3x3 = nn.Conv2d(144, 128, kernel_size=3, stride=1, padding=1) # Conv3x3 #11 (thêm)\n",
        "        self.branch2_5x5 = nn.Conv2d(128, 128, kernel_size=5, stride=1, padding=2) # Conv5x5 #11 (thêm)\n",
        "\n",
        "        # Khối cuối: Sau concatenation 2 (8x8, 384 channels)\n",
        "        self.conv3x3_10 = nn.Conv2d(384, 192, kernel_size=3, stride=1, padding=1) # Conv3x3 #12 (thêm)\n",
        "        self.conv5x5_10 = nn.Conv2d(192, 192, kernel_size=5, stride=1, padding=2) # Conv5x5 #12 (thêm)\n",
        "\n",
        "        # 2 Fully Connected Layers\n",
        "        # 8x8x192 = 12288\n",
        "        self.fc1 = nn.Linear(192 * 8 * 8, 1024)\n",
        "        self.fc2 = nn.Linear(1024, 10)\n",
        "\n",
        "        # Layer điều chỉnh channels (không cần nữa vì đã điều chỉnh từ đầu)\n",
        "\n",
        "    def forward(self, x):\n",
        "        # Khối 1: Conv3x3 và Conv5x5 layers\n",
        "        x = F.relu(self.conv3x3_1(x))      # 32x32x32\n",
        "        x = F.relu(self.conv5x5_1(x))      # 32x32x32\n",
        "        x = F.relu(self.conv3x3_2(x))      # 32x32x64\n",
        "        x = F.relu(self.conv5x5_2(x))      # 32x32x64\n",
        "\n",
        "        # Residual connection 1 (cộng tensors #1)\n",
        "        identity1 = x\n",
        "        x = F.relu(self.conv3x3_3(x))      # 32x32x64\n",
        "        x = F.relu(self.conv5x5_3(x))      # 32x32x64\n",
        "        x = F.relu(self.conv3x3_4(x))      # 32x32x64\n",
        "        x = F.relu(self.conv5x5_4(x))      # 32x32x64\n",
        "        x = x + identity1                  # Cộng tensors #1\n",
        "\n",
        "        # MaxPool 1\n",
        "        x = self.pool1(x)                  # 16x16x64\n",
        "\n",
        "        # Lưu cho nhánh phụ 1\n",
        "        branch1_input = x\n",
        "\n",
        "        # Khối chính\n",
        "        x = F.relu(self.conv3x3_5(x))      # 16x16x96\n",
        "        x = F.relu(self.conv5x5_5(x))      # 16x16x96\n",
        "        x = F.relu(self.conv3x3_6(x))      # 16x16x96\n",
        "        x = F.relu(self.conv5x5_6(x))      # 16x16x96\n",
        "\n",
        "        # Nhánh phụ 1\n",
        "        branch1 = F.relu(self.branch1_3x3(branch1_input))  # 16x16x48\n",
        "        branch1 = F.relu(self.branch1_5x5(branch1))        # 16x16x48\n",
        "\n",
        "        # torch.cat thứ 1 (concatenation)\n",
        "        x = torch.cat([x, branch1], dim=1)  # 16x16x144 (96+48=144)\n",
        "\n",
        "        # Sau concatenation 1\n",
        "        x = F.relu(self.conv3x3_7(x))      # 16x16x144\n",
        "        x = F.relu(self.conv5x5_7(x))      # 16x16x144\n",
        "\n",
        "        # Residual connection 2 (cộng tensors #2)\n",
        "        identity2 = x\n",
        "        x = F.relu(self.conv3x3_8(x))      # 16x16x144\n",
        "        x = F.relu(self.conv5x5_8(x))      # 16x16x144\n",
        "        x = x + identity2                  # Cộng tensors #2\n",
        "\n",
        "        # MaxPool 2\n",
        "        x = self.pool2(x)                  # 8x8x144\n",
        "\n",
        "        # Lưu cho nhánh phụ 2\n",
        "        branch2_input = x\n",
        "\n",
        "        # Khối chính tiếp\n",
        "        x = F.relu(self.conv3x3_9(x))      # 8x8x256\n",
        "        x = F.relu(self.conv5x5_9(x))      # 8x8x256\n",
        "\n",
        "        # Nhánh phụ 2\n",
        "        branch2 = F.relu(self.branch2_3x3(branch2_input))  # 8x8x128\n",
        "        branch2 = F.relu(self.branch2_5x5(branch2))        # 8x8x128\n",
        "\n",
        "        # torch.cat thứ 2 (concatenation)\n",
        "        x = torch.cat([x, branch2], dim=1)  # 8x8x384 (256+128=384)\n",
        "\n",
        "        # Khối cuối\n",
        "        x = F.relu(self.conv3x3_10(x))     # 8x8x192\n",
        "        x = F.relu(self.conv5x5_10(x))     # 8x8x192\n",
        "\n",
        "        # Flatten và 2 FC layers\n",
        "        x = torch.flatten(x, 1)            # 12288\n",
        "        x = F.relu(self.fc1(x))            # 1024\n",
        "        x = self.fc2(x)                    # 10\n",
        "\n",
        "        return x\n",
        "\n",
        "def count_parameters(model):\n",
        "    return sum(p.numel() for p in model.parameters() if p.requires_grad)\n",
        "\n",
        "if __name__ == \"__main__\":\n",
        "    # Test Model3\n",
        "    print(\"=== TESTING MODEL3 ===\")\n",
        "    model3 = Model3()\n",
        "    test_input = torch.randn(1, 3, 32, 32)\n",
        "\n",
        "    # Forward pass\n",
        "    output = model3(test_input)\n",
        "\n",
        "    # Đếm parameters\n",
        "    total_params = count_parameters(model3)\n",
        "\n",
        "    print(f\"Input shape: {test_input.shape}\")\n",
        "    print(f\"Output shape: {output.shape}\")\n",
        "    print(f\"Total parameters: {total_params:,}\")\n",
        "    print(f\"Parameters in range 10M-20M: {10_000_000 <= total_params <= 20_000_000}\")\n",
        ""
      ]
    },
    {
      "cell_type": "markdown",
      "metadata": {
        "id": "mQIL9QNo-VHO"
      },
      "source": [
        "3. Define a Loss function and optimizer\n",
        "^^^^^^^^^^^^^^^^^^^^^^^^^^^^^^^^^^^^^^^\n",
        "Let's use a Classification Cross-Entropy loss and SGD with momentum.\n",
        "\n"
      ]
    },
    {
      "cell_type": "code",
      "execution_count": 55,
      "metadata": {
        "id": "gagv1p5k-VHO"
      },
      "outputs": [],
      "source": [
        "import torch.optim as optim\n",
        "\n",
        "criterion = nn.CrossEntropyLoss()\n",
        "optimizer = optim.SGD(net.parameters(), lr=0.001, momentum=0.9)"
      ]
    },
    {
      "cell_type": "markdown",
      "metadata": {
        "id": "2nxSwUCr-VHP"
      },
      "source": [
        "4. Train the network\n",
        "^^^^^^^^^^^^^^^^^^^^\n",
        "\n",
        "This is when things start to get interesting.\n",
        "We simply have to loop over our data iterator, and feed the inputs to the\n",
        "network and optimize.\n",
        "\n"
      ]
    },
    {
      "cell_type": "code",
      "execution_count": 56,
      "metadata": {
        "colab": {
          "base_uri": "https://localhost:8080/"
        },
        "id": "8y_huSG_-VHP",
        "outputId": "f6668ed2-f914-4ebb-b141-a91d1d58d426"
      },
      "outputs": [
        {
          "output_type": "stream",
          "name": "stdout",
          "text": [
            "✅ Using device: cuda\n",
            "[1,  2000] loss: 2.303\n",
            "[1,  4000] loss: 2.303\n",
            "[1,  6000] loss: 2.302\n",
            "[1,  8000] loss: 2.194\n",
            "[1, 10000] loss: 1.970\n",
            "[1, 12000] loss: 1.846\n",
            "[2,  2000] loss: 1.746\n",
            "[2,  4000] loss: 1.647\n",
            "[2,  6000] loss: 1.572\n",
            "[2,  8000] loss: 1.502\n",
            "[2, 10000] loss: 1.431\n",
            "[2, 12000] loss: 1.398\n",
            "[3,  2000] loss: 1.309\n",
            "[3,  4000] loss: 1.263\n",
            "[3,  6000] loss: 1.223\n",
            "[3,  8000] loss: 1.200\n",
            "[3, 10000] loss: 1.135\n",
            "[3, 12000] loss: 1.104\n",
            "[4,  2000] loss: 0.985\n",
            "[4,  4000] loss: 0.970\n",
            "[4,  6000] loss: 0.933\n",
            "[4,  8000] loss: 0.902\n",
            "[4, 10000] loss: 0.912\n",
            "[4, 12000] loss: 0.877\n",
            "[5,  2000] loss: 0.751\n",
            "[5,  4000] loss: 0.735\n",
            "[5,  6000] loss: 0.760\n",
            "[5,  8000] loss: 0.743\n",
            "[5, 10000] loss: 0.734\n",
            "[5, 12000] loss: 0.726\n",
            "[6,  2000] loss: 0.560\n",
            "[6,  4000] loss: 0.584\n",
            "[6,  6000] loss: 0.577\n",
            "[6,  8000] loss: 0.605\n",
            "[6, 10000] loss: 0.594\n",
            "[6, 12000] loss: 0.601\n",
            "[7,  2000] loss: 0.437\n",
            "[7,  4000] loss: 0.441\n",
            "[7,  6000] loss: 0.431\n",
            "[7,  8000] loss: 0.476\n",
            "[7, 10000] loss: 0.467\n",
            "[7, 12000] loss: 0.482\n",
            "[8,  2000] loss: 0.293\n",
            "[8,  4000] loss: 0.328\n",
            "[8,  6000] loss: 0.335\n",
            "[8,  8000] loss: 0.361\n",
            "[8, 10000] loss: 0.373\n",
            "[8, 12000] loss: 0.356\n",
            "[9,  2000] loss: 0.219\n",
            "[9,  4000] loss: 0.233\n",
            "[9,  6000] loss: 0.255\n",
            "[9,  8000] loss: 0.276\n",
            "[9, 10000] loss: 0.297\n",
            "[9, 12000] loss: 0.302\n",
            "[10,  2000] loss: 0.162\n",
            "[10,  4000] loss: 0.178\n",
            "[10,  6000] loss: 0.189\n",
            "[10,  8000] loss: 0.200\n",
            "[10, 10000] loss: 0.222\n",
            "[10, 12000] loss: 0.245\n",
            "✅ Finished Training\n"
          ]
        }
      ],
      "source": [
        "device = torch.device(\"cuda\" if torch.cuda.is_available() else \"cpu\")\n",
        "print(f\"✅ Using device: {device}\")\n",
        "\n",
        "net = Model1().to(device)\n",
        "criterion = nn.CrossEntropyLoss()\n",
        "optimizer = torch.optim.SGD(net.parameters(), lr=0.001, momentum=0.9)\n",
        "\n",
        "for epoch in range(10):  # loop over the dataset multiple times\n",
        "    running_loss = 0.0\n",
        "    for i, data in enumerate(trainloader, 0):\n",
        "        inputs, labels = data[0].to(device), data[1].to(device)\n",
        "\n",
        "        optimizer.zero_grad()\n",
        "        outputs = net(inputs)\n",
        "        loss = criterion(outputs, labels)\n",
        "        loss.backward()\n",
        "        optimizer.step()\n",
        "\n",
        "        running_loss += loss.item()\n",
        "        if i % 2000 == 1999:    # print every 2000 mini-batches\n",
        "            print('[%d, %5d] loss: %.3f' %\n",
        "                  (epoch + 1, i + 1, running_loss / 2000))\n",
        "            running_loss = 0.0\n",
        "\n",
        "print('✅ Finished Training')\n"
      ]
    },
    {
      "cell_type": "markdown",
      "metadata": {
        "id": "1W5cGSWJ-VHP"
      },
      "source": [
        "5. Test the network on the test data\n",
        "^^^^^^^^^^^^^^^^^^^^^^^^^^^^^^^^^^^^\n",
        "\n",
        "We have trained the network for 2 passes over the training dataset.\n",
        "But we need to check if the network has learnt anything at all.\n",
        "\n",
        "We will check this by predicting the class label that the neural network\n",
        "outputs, and checking it against the ground-truth. If the prediction is\n",
        "correct, we add the sample to the list of correct predictions.\n",
        "\n",
        "Okay, first step. Let us display an image from the test set to get familiar.\n",
        "\n"
      ]
    },
    {
      "cell_type": "code",
      "execution_count": 57,
      "metadata": {
        "colab": {
          "base_uri": "https://localhost:8080/",
          "height": 210
        },
        "id": "qrC-V_yr-VHP",
        "outputId": "02d04727-7381-4a0b-afbf-e65b36fddba0"
      },
      "outputs": [
        {
          "output_type": "stream",
          "name": "stdout",
          "text": [
            "GroundTruth:    cat  ship  ship plane\n"
          ]
        },
        {
          "output_type": "display_data",
          "data": {
            "text/plain": [
              "<Figure size 640x480 with 1 Axes>"
            ],
            "image/png": "[encoded data removed]"
          },
          "metadata": {}
        }
      ],
      "source": [
        "dataiter = iter(testloader)\n",
        "images, labels = next(dataiter)\n",
        "\n",
        "# print images\n",
        "imshow(torchvision.utils.make_grid(images))\n",
        "print('GroundTruth: ', ' '.join('%5s' % classes[labels[j]] for j in range(4)))"
      ]
    },
    {
      "cell_type": "markdown",
      "metadata": {
        "id": "Ls1ajn8e-VHP"
      },
      "source": [
        "Okay, now let us see what the neural network thinks these examples above are:\n",
        "\n"
      ]
    },
    {
      "cell_type": "code",
      "execution_count": 58,
      "metadata": {
        "id": "mUxF-RsR-VHP"
      },
      "outputs": [],
      "source": [
        "outputs = net(images.to(device))"
      ]
    },
    {
      "cell_type": "markdown",
      "metadata": {
        "id": "e8jtdr2L-VHP"
      },
      "source": [
        "The outputs are energies for the 10 classes.\n",
        "Higher the energy for a class, the more the network\n",
        "thinks that the image is of the particular class.\n",
        "So, let's get the index of the highest energy:\n",
        "\n"
      ]
    },
    {
      "cell_type": "code",
      "execution_count": 59,
      "metadata": {
        "colab": {
          "base_uri": "https://localhost:8080/"
        },
        "id": "bm6XCk9V-VHP",
        "outputId": "7d6e46e7-5094-4b5f-8769-511f3cb67cf9"
      },
      "outputs": [
        {
          "output_type": "stream",
          "name": "stdout",
          "text": [
            "Predicted:    cat  ship  ship plane\n"
          ]
        }
      ],
      "source": [
        "_, predicted = torch.max(outputs, 1)\n",
        "\n",
        "print('Predicted: ', ' '.join('%5s' % classes[predicted[j]]\n",
        "                              for j in range(4)))"
      ]
    },
    {
      "cell_type": "markdown",
      "metadata": {
        "id": "KxBZSYPS-VHP"
      },
      "source": [
        "The results seem pretty good.\n",
        "\n",
        "Let us look at how the network performs on the whole dataset.\n",
        "\n"
      ]
    },
    {
      "cell_type": "code",
      "execution_count": 60,
      "metadata": {
        "colab": {
          "base_uri": "https://localhost:8080/"
        },
        "id": "PzT6WHXn-VHP",
        "outputId": "061fe74b-5965-4ffc-cd80-814b4b7595c9"
      },
      "outputs": [
        {
          "output_type": "stream",
          "name": "stdout",
          "text": [
            "Accuracy of the network on the 10000 test images: 73 %\n"
          ]
        }
      ],
      "source": [
        "correct = 0\n",
        "total = 0\n",
        "with torch.no_grad():\n",
        "    for data in testloader:\n",
        "        images, labels = data[0].to(device), data[1].to(device)\n",
        "        outputs = net(images)\n",
        "        _, predicted = torch.max(outputs.data, 1)\n",
        "        total += labels.size(0)\n",
        "        correct += (predicted == labels).sum().item()\n",
        "\n",
        "print('Accuracy of the network on the 10000 test images: %d %%' % (\n",
        "    100 * correct / total))"
      ]
    },
    {
      "cell_type": "markdown",
      "metadata": {
        "id": "b5921481"
      },
      "source": [
        "## Saving the trained model\n",
        "\n",
        "To save your trained model, you can use `torch.save()`. This will save the model's state dictionary, which contains all the learned parameters."
      ]
    },
    {
      "cell_type": "code",
      "metadata": {
        "colab": {
          "base_uri": "https://localhost:8080/"
        },
        "id": "f4dde817",
        "outputId": "ed4f5090-a581-4c16-ea39-00b1849b5b92"
      },
      "source": [
        "PATH = './cifar_net.pth'\n",
        "torch.save(net.state_dict(), PATH)\n",
        "print(f\"Model saved to {PATH}\")"
      ],
      "execution_count": 61,
      "outputs": [
        {
          "output_type": "stream",
          "name": "stdout",
          "text": [
            "Model saved to ./cifar_net.pth\n"
          ]
        }
      ]
    },
    {
      "cell_type": "markdown",
      "metadata": {
        "id": "Vm7M6kUq-VHP"
      },
      "source": [
        "That looks waaay better than chance, which is 10% accuracy (randomly picking\n",
        "a class out of 10 classes).\n",
        "Seems like the network learnt something.\n",
        "\n",
        "Hmmm, what are the classes that performed well, and the classes that did\n",
        "not perform well:\n",
        "\n"
      ]
    },
    {
      "cell_type": "code",
      "execution_count": 62,
      "metadata": {
        "colab": {
          "base_uri": "https://localhost:8080/"
        },
        "id": "xl5jTCk5-VHP",
        "outputId": "8926e17c-3bf6-4474-aa2c-0b92230f85dc"
      },
      "outputs": [
        {
          "output_type": "stream",
          "name": "stdout",
          "text": [
            "Accuracy of plane : 71 %\n",
            "Accuracy of   car : 81 %\n",
            "Accuracy of  bird : 56 %\n",
            "Accuracy of   cat : 56 %\n",
            "Accuracy of  deer : 68 %\n",
            "Accuracy of   dog : 60 %\n",
            "Accuracy of  frog : 87 %\n",
            "Accuracy of horse : 78 %\n",
            "Accuracy of  ship : 91 %\n",
            "Accuracy of truck : 83 %\n"
          ]
        }
      ],
      "source": [
        "class_correct = list(0. for i in range(10))\n",
        "class_total = list(0. for i in range(10))\n",
        "with torch.no_grad():\n",
        "    for data in testloader:\n",
        "        images, labels = data[0].to(device), data[1].to(device)\n",
        "        outputs = net(images)\n",
        "        _, predicted = torch.max(outputs, 1)\n",
        "        c = (predicted == labels).squeeze()\n",
        "        for i in range(4):\n",
        "            label = labels[i]\n",
        "            class_correct[label] += c[i].item()\n",
        "            class_total[label] += 1\n",
        "\n",
        "\n",
        "for i in range(10):\n",
        "    print('Accuracy of %5s : %2d %%' % (\n",
        "        classes[i], 100 * class_correct[i] / class_total[i]))"
      ]
    },
    {
      "cell_type": "markdown",
      "metadata": {
        "id": "8xCQmtg0-VHP"
      },
      "source": [
        "Okay, so what next?\n",
        "\n",
        "How do we run these neural networks on the GPU?\n",
        "\n",
        "Training on GPU\n",
        "----------------\n",
        "Just like how you transfer a Tensor on to the GPU, you transfer the neural\n",
        "net onto the GPU.\n",
        "\n",
        "Let's first define our device as the first visible cuda device if we have\n",
        "CUDA available:\n",
        "\n"
      ]
    },
    {
      "cell_type": "code",
      "execution_count": 63,
      "metadata": {
        "colab": {
          "base_uri": "https://localhost:8080/"
        },
        "id": "QgBr-e6E-VHP",
        "outputId": "baf7c06c-c90d-4aea-8dbf-54fa6ccfdb6b"
      },
      "outputs": [
        {
          "output_type": "stream",
          "name": "stdout",
          "text": [
            "cuda:0\n"
          ]
        }
      ],
      "source": [
        "device = torch.device(\"cuda:0\" if torch.cuda.is_available() else \"cpu\")\n",
        "\n",
        "# Assume that we are on a CUDA machine, then this should print a CUDA device:\n",
        "\n",
        "print(device)"
      ]
    },
    {
      "cell_type": "markdown",
      "metadata": {
        "id": "yNQ9x_v7-VHP"
      },
      "source": [
        "The rest of this section assumes that `device` is a CUDA device.\n",
        "\n",
        "Then these methods will recursively go over all modules and convert their\n",
        "parameters and buffers to CUDA tensors:\n",
        "\n",
        ".. code:: python\n",
        "\n",
        "    net.to(device)\n",
        "\n",
        "\n",
        "Remember that you will have to send the inputs and targets at every step\n",
        "to the GPU too:\n",
        "\n",
        ".. code:: python\n",
        "\n",
        "        inputs, labels = inputs.to(device), labels.to(device)\n",
        "\n",
        "Why dont I notice MASSIVE speedup compared to CPU? Because your network\n",
        "is realllly small.\n",
        "\n",
        "**Exercise:** Try increasing the width of your network (argument 2 of\n",
        "the first ``nn.Conv2d``, and argument 1 of the second ``nn.Conv2d`` –\n",
        "they need to be the same number), see what kind of speedup you get.\n",
        "\n",
        "**Goals achieved**:\n",
        "\n",
        "- Understanding PyTorch's Tensor library and neural networks at a high level.\n",
        "- Train a small neural network to classify images\n",
        "\n",
        "Training on multiple GPUs\n",
        "-------------------------\n",
        "If you want to see even more MASSIVE speedup using all of your GPUs,\n",
        "please check out :doc:`data_parallel_tutorial`.\n",
        "\n",
        "Where do I go next?\n",
        "-------------------\n",
        "\n",
        "-  :doc:`Train neural nets to play video games </intermediate/reinforcement_q_learning>`\n",
        "-  `Train a state-of-the-art ResNet network on imagenet`_\n",
        "-  `Train a face generator using Generative Adversarial Networks`_\n",
        "-  `Train a word-level language model using Recurrent LSTM networks`_\n",
        "-  `More examples`_\n",
        "-  `More tutorials`_\n",
        "-  `Discuss PyTorch on the Forums`_\n",
        "-  `Chat with other users on Slack`_\n",
        "\n",
        "\n"
      ]
    }
  ],
  "metadata": {
    "kernelspec": {
      "display_name": "Python 3",
      "name": "python3"
    },
    "language_info": {
      "codemirror_mode": {
        "name": "ipython",
        "version": 3
      },
      "file_extension": ".py",
      "mimetype": "text/x-python",
      "name": "python",
      "nbconvert_exporter": "python",
      "pygments_lexer": "ipython3",
      "version": "3.6.6"
    },
    "colab": {
      "provenance": [],
      "gpuType": "T4"
    },
    "accelerator": "GPU"
  },
  "nbformat": 4,
  "nbformat_minor": 0
}